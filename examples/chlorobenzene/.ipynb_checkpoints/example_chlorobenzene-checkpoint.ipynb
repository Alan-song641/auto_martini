{
 "cells": [
  {
   "cell_type": "code",
   "execution_count": 1,
   "metadata": {
    "collapsed": false
   },
   "outputs": [
    {
     "name": "stderr",
     "output_type": "stream",
     "text": [
      ":0: FutureWarning: IPython widgets are experimental and may change in the future.\n"
     ]
    }
   ],
   "source": [
    "import auto_martini as am\n",
    "from rdkit.Chem import Draw\n",
    "from rdkit import Chem\n",
    "from rdkit.Chem import AllChem\n",
    "from IPython.display import Image\n",
    "\n",
    "smi_chlorobenzene = \"c1(Cl)ccccc1\""
   ]
  },
  {
   "cell_type": "code",
   "execution_count": 2,
   "metadata": {
    "collapsed": false
   },
   "outputs": [
    {
     "name": "stdout",
     "output_type": "stream",
     "text": [
      "; GENERATED WITH auto_martini.py\n",
      "; None\n",
      "; Tristan Bereau (2014)\n",
      "\n",
      "[moleculetype]\n",
      "; molname       nrexcl\n",
      "  MOL           2\n",
      "\n",
      "[atoms]\n",
      "; id    type    resnr   residue  atom    cgnr    charge  smiles\n",
      "    1     SC4     1     MOL       S01     1         0   ; Clc1ccccc1\n",
      "    2     SC5     1     MOL       S02     2         0   ; c1ccccc1\n",
      "    3     SC5     1     MOL       S03     3         0   ; c1ccccc1\n",
      "\n",
      "[constraints]\n",
      ";  i   j     funct   length\n",
      "   1   2     1       0.24\n",
      "   1   3     1       0.24\n",
      "   2   3     1       0.24\n",
      "\n"
     ]
    }
   ],
   "source": [
    "# Generate ITP file\n",
    "mol = am.gen_molecule_smi(smi_chlorobenzene)\n",
    "am.cg_molecule(mol, \"MOL\")"
   ]
  },
  {
   "cell_type": "code",
   "execution_count": 3,
   "metadata": {
    "collapsed": false
   },
   "outputs": [],
   "source": [
    "# Render atomistic structure\n",
    "m = Chem.MolFromSmiles(smi_chlorobenzene)\n",
    "m = Chem.AddHs(m)\n",
    "AllChem.EmbedMolecule(m)\n",
    "AllChem.UFFOptimizeMolecule(m)\n",
    "am.draw_mol(m)"
   ]
  },
  {
   "cell_type": "code",
   "execution_count": 4,
   "metadata": {
    "collapsed": false
   },
   "outputs": [
    {
     "name": "stdout",
     "output_type": "stream",
     "text": [
      "SC4\n",
      "SC5\n",
      "SC5\n"
     ]
    }
   ],
   "source": [
    "# Render CG structure\n",
    "am.draw_cg(\"clb.gro\", \"clb.itp\")"
   ]
  },
  {
   "cell_type": "code",
   "execution_count": null,
   "metadata": {
    "collapsed": true
   },
   "outputs": [],
   "source": []
  },
  {
   "cell_type": "code",
   "execution_count": null,
   "metadata": {
    "collapsed": false
   },
   "outputs": [],
   "source": []
  }
 ],
 "metadata": {
  "kernelspec": {
   "display_name": "Python 2",
   "language": "python",
   "name": "python2"
  },
  "language_info": {
   "codemirror_mode": {
    "name": "ipython",
    "version": 2
   },
   "file_extension": ".py",
   "mimetype": "text/x-python",
   "name": "python",
   "nbconvert_exporter": "python",
   "pygments_lexer": "ipython2",
   "version": "2.7.8"
  }
 },
 "nbformat": 4,
 "nbformat_minor": 0
}
