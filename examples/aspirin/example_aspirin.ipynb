{
 "cells": [
  {
   "cell_type": "code",
   "execution_count": 7,
   "metadata": {
    "collapsed": false
   },
   "outputs": [],
   "source": [
    "import auto_martini as am\n",
    "from rdkit.Chem import Draw\n",
    "from rdkit import Chem\n",
    "from rdkit.Chem import AllChem\n",
    "from IPython.display import Image\n",
    "\n",
    "smi_aspirin = \"CC(=O)OC1=CC=CC=C1C(O)=O\""
   ]
  },
  {
   "cell_type": "code",
   "execution_count": 8,
   "metadata": {
    "collapsed": false
   },
   "outputs": [
    {
     "name": "stdout",
     "output_type": "stream",
     "text": [
      "; GENERATED WITH auto_martini.py\n",
      "; None\n",
      "; Tristan Bereau (2014)\n",
      "\n",
      "[moleculetype]\n",
      "; molname       nrexcl\n",
      "  MOL           2\n",
      "\n",
      "[atoms]\n",
      "; id    type    resnr   residue  atom    cgnr    charge  smiles\n",
      "    1     Na      1     MOL       N01     1         0   ; CC=O\n",
      "    2     SNa     1     MOL       S01     2         0   ; Oc1ccccc1\n",
      "    3     SC5     1     MOL       S02     3         0   ; c1ccccc1\n",
      "    4     SC5     1     MOL       S03     4         0   ; c1ccccc1\n",
      "    5     P1      1     MOL       P01     5         0   ; OC=O\n",
      "\n",
      "[bonds]\n",
      "; i j     funct     length    force.c.\n",
      "  1 2       1         0.25     1250\n",
      "  4 5       1         0.25     1250\n",
      "\n",
      "[constraints]\n",
      ";  i   j     funct   length\n",
      "   2   3     1       0.24\n",
      "   2   4     1       0.24\n",
      "   3   4     1       0.24\n",
      "\n",
      "[angles]\n",
      "; i j k         funct   angle   force.c.\n",
      "  1 2 3         2       125.7   25.0\n",
      "  1 2 4         2       165.5   25.0\n",
      "  2 4 5         2       62.0    25.0\n",
      "  3 4 5         2       122.3   25.0\n",
      "\n",
      "[dihedrals]\n",
      ";  i     j    k    l   funct   angle  force.c.\n",
      "   1     2    3    4       2     -163.8   10.0\n",
      "   1     2    4    3       2     115.2   10.0\n",
      "   2     3    4    5       2     -0.6    10.0\n",
      "   2     5    4    3       2     0.6     10.0\n",
      "   3     2    4    5       2     179.4   10.0\n",
      "   3     2    5    4       2     -0.6    10.0\n",
      "   3     4    2    5       2     -179.4   10.0\n",
      "   4     3    2    5       2     0.6     10.0\n",
      "\n"
     ]
    }
   ],
   "source": [
    "# Generate ITP file\n",
    "mol = am.gen_molecule_smi(smi_aspirin)\n",
    "am.cg_molecule(mol, \"MOL\")"
   ]
  },
  {
   "cell_type": "code",
   "execution_count": 9,
   "metadata": {
    "collapsed": false
   },
   "outputs": [],
   "source": [
    "# Render atomistic structure\n",
    "m = Chem.MolFromSmiles(smi_aspirin)\n",
    "m = Chem.AddHs(m)\n",
    "AllChem.EmbedMolecule(m)\n",
    "AllChem.UFFOptimizeMolecule(m)\n",
    "am.draw_mol(m)"
   ]
  },
  {
   "cell_type": "code",
   "execution_count": 10,
   "metadata": {
    "collapsed": false
   },
   "outputs": [
    {
     "name": "stdout",
     "output_type": "stream",
     "text": [
      "Na\n",
      "SNa\n",
      "SC5\n",
      "SC5\n",
      "P1\n"
     ]
    }
   ],
   "source": [
    "# Render CG structure\n",
    "am.draw_cg(\"asp_cg.gro\", \"asp.itp\")"
   ]
  },
  {
   "cell_type": "code",
   "execution_count": null,
   "metadata": {
    "collapsed": true
   },
   "outputs": [],
   "source": []
  }
 ],
 "metadata": {
  "kernelspec": {
   "display_name": "Python 2",
   "language": "python",
   "name": "python2"
  },
  "language_info": {
   "codemirror_mode": {
    "name": "ipython",
    "version": 2
   },
   "file_extension": ".py",
   "mimetype": "text/x-python",
   "name": "python",
   "nbconvert_exporter": "python",
   "pygments_lexer": "ipython2",
   "version": "2.7.8"
  }
 },
 "nbformat": 4,
 "nbformat_minor": 0
}
